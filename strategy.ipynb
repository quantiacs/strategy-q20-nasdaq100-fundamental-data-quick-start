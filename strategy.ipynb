{
 "cells": [
  {
   "cell_type": "markdown",
   "metadata": {},
   "source": [
    "# Quick Start Fundamental Data\n",
    "\n",
    "**Strategy idea**: We will buy shares of companies whose total revenue has increased over the last 65 days.\n",
    "\n",
    "## Full code\n",
    "\n",
    "Below is the complete code snippet for this strategy:\n",
    "\n",
    "```python\n",
    "import xarray as xr\n",
    "import qnt.data    as qndata\n",
    "import qnt.output as qnout\n",
    "import qnt.stats   as qnstats\n",
    "import qnt.graph as qngraph\n",
    "import qnt.data.secgov_fundamental as fundamental\n",
    "\n",
    "market_data = qndata.stocks.load_ndx_data(min_date=\"2005-01-01\")\n",
    "indicators_data = fundamental.load_indicators_for(market_data, indicator_names=['total_revenue'])\n",
    "\n",
    "\n",
    "def calculate_weights(data, fundamental_data):\n",
    "    \"\"\"\n",
    "    Calculate weights for the strategy based on a simple revenue growth check.\n",
    "\n",
    "    If the total revenue for a given time period is greater than 65 days ago, assign a weight of 1 (buy), otherwise 0.\n",
    "\n",
    "    \"\"\"\n",
    "    total_revenue = fundamental_data.sel(field=\"total_revenue\")\n",
    "    total_revenue_days_ago = total_revenue.shift(time=65)\n",
    "\n",
    "    buy = 1\n",
    "    is_up = xr.where(total_revenue > total_revenue_days_ago, buy, 0)\n",
    "\n",
    "    return is_up  * data.sel(field='is_liquid') # use only liquidity assets\n",
    "\n",
    "\n",
    "def add_buy_and_hold_enough_bid_for(data, weights_):\n",
    "    \"\"\"Add buy and hold condition based on the liquidity of the assets.\"\"\"\n",
    "    time_traded = weights_.time[abs(weights_).fillna(0).sum('asset') > 0]\n",
    "    is_strategy_traded = len(time_traded)\n",
    "    if is_strategy_traded:\n",
    "        return xr.where(weights_.time < time_traded.min(), data.sel(field=\"is_liquid\"), weights_)\n",
    "    return weights_\n",
    "\n",
    "\n",
    "def plot_performance(stats):\n",
    "    \"\"\"Plot the performance of the strategy.\"\"\"\n",
    "    performance = stats.to_pandas()[\"equity\"]\n",
    "    qngraph.make_plot_filled(performance.index, performance, name=\"PnL (Equity)\", type=\"log\")\n",
    "\n",
    "\n",
    "weights = calculate_weights(market_data, indicators_data)\n",
    "# Fundamental data is available from 2010 onwards\n",
    "# Add a simple \"buy and hold\" strategy.\n",
    "weights = add_buy_and_hold_enough_bid_for(market_data, weights)\n",
    "weights = qnout.clean(weights, market_data, \"stocks_nasdaq100\")\n",
    "\n",
    "stats = qnstats.calc_stat(market_data, weights.sel(time=slice(\"2006-01-01\", None)))\n",
    "display(stats.to_pandas().tail())\n",
    "plot_performance(stats)\n",
    "\n",
    "weights = weights.sel(time=slice(\"2006-01-01\", None))\n",
    "qnout.check(weights, market_data, \"stocks_nasdaq100\")\n",
    "qnout.write(weights)  # to participate in the competition\n",
    "```"
   ]
  },
  {
   "cell_type": "markdown",
   "metadata": {},
   "source": [
    "## 1) Load libraries\n",
    "\n",
    "Start by importing all the essential libraries."
   ]
  },
  {
   "cell_type": "code",
   "execution_count": null,
   "metadata": {
    "collapsed": false,
    "jupyter": {
     "outputs_hidden": false
    },
    "pycharm": {
     "is_executing": true
    }
   },
   "outputs": [],
   "source": [
    "import xarray as xr\n",
    "import qnt.data as qndata\n",
    "import qnt.output as qnout\n",
    "import qnt.stats as qnstats\n",
    "import qnt.graph as qngraph\n",
    "import qnt.data.secgov_fundamental as fundamental"
   ]
  },
  {
   "cell_type": "markdown",
   "metadata": {},
   "source": [
    "## 2) Data\n",
    "\n",
    "The variable **qndata.stocks.load_ndx_data(tail=period)** is an xarray.DataArray structure which contains historical market data for the last (tail=period) days and whose coordinates are:\n",
    "\n",
    "* **time**: a date in format yyyy-mm-dd;\n",
    "* **field**: an attribute, for example the opening daily price;\n",
    "* **asset**: the identifying symbol for the asset, for example NAS:APPL for Apple.\n",
    "\n",
    "![data_example](./img/data.jpg)\n",
    "\n",
    "**market_data** - contains a list of assets by which indicators will be loaded\n",
    "\n",
    "```python\n",
    "market_data.asset.to_pandas().to_list()\n",
    "```\n",
    "\n",
    "**indicators_data**: This dataset houses the principal fundamental indicators which are, by default, represented as LTM (Last Twelve Months). It essentially provides indicator values calculated for the last 4 quarters for each given date.\n",
    "\n",
    "**List of available indicators**\n",
    "```python\n",
    "display(fundamental.get_standard_indicator_names())\n",
    "display(fundamental.get_complex_indicator_names())\n",
    "display(fundamental.get_annual_indicator_names())\n",
    "```\n",
    "\n",
    "**Loading data**\n",
    "\n",
    "```python\n",
    "# indicators_data = fundamental.load_indicators_for(market_data)\n",
    "# indicators_data = fundamental.load_indicators_for(market_data, fundamental.get_standard_indicator_names())\n",
    "# indicators_data = fundamental.load_indicators_for(market_data, fundamental.get_complex_indicator_names(),time_period = 'ltm')\n",
    "# indicators_data = fundamental.load_indicators_for(market_data, fundamental.get_annual_indicator_names())\n",
    "```\n",
    "\n",
    "To construct **fundamental indicators** (equity, EV, EBITDA, etc.) **fundamental facts** are used (e.g., 'us-gaap:Revenues', 'us-gaap:StockholdersEquity', etc.).\n",
    "\n",
    "\n",
    "You can check the source code of the library. It presents how fundamental indicators are constructed and how data is recovered in case of errors. You can create your own algorithm, here is an example\n",
    "\n",
    "Data provider - https://www.sec.gov/. For example, Walmart, Inc. -  [List Reports](https://www.sec.gov/cgi-bin/browse-edgar?filenum=001-06991&action=getcompany) and\n",
    "[Annual report 2021-03-19](https://www.sec.gov/cgi-bin/viewer?action=view&cik=104169&accession_number=0000104169-21-000033&xbrl_type=v)\n",
    "\n",
    "Load daily stock data for the Nasdaq-100 contest\n"
   ]
  },
  {
   "cell_type": "code",
   "execution_count": null,
   "metadata": {
    "collapsed": false,
    "jupyter": {
     "outputs_hidden": false
    },
    "pycharm": {
     "is_executing": true
    }
   },
   "outputs": [],
   "source": [
    "market_data = qndata.stocks.load_ndx_data(min_date=\"2005-01-01\")\n",
    "indicators_data = fundamental.load_indicators_for(market_data, indicator_names=['total_revenue'])"
   ]
  },
  {
   "cell_type": "markdown",
   "metadata": {},
   "source": [
    "## 3. Strategy. Weights allocation\n",
    "\n",
    "\n",
    "> Every day, the algorithm determines how much of each asset should be in the portfolio for the next trading day. These are called the portfolio weights.\n",
    "\n",
    "A positive weight means you'll be buying that asset, while a negative weight means you'll be selling it.\n",
    "\n",
    "These decisions are made at the end of each day and put into effect at the beginning of the next trading day.\n",
    "\n",
    "![weights_example](./img/weights.jpg)\n",
    "\n",
    "Fundamental data is available from 2010 onwards. However, to participate in the competition, the strategy needs to generate weights from 2006. In this context, we have decided to apply a simple \"buy and hold\" strategy. You are free to choose any other strategy for use."
   ]
  },
  {
   "cell_type": "code",
   "execution_count": null,
   "metadata": {
    "collapsed": false,
    "jupyter": {
     "outputs_hidden": false
    },
    "pycharm": {
     "is_executing": true
    }
   },
   "outputs": [],
   "source": [
    "def calculate_weights(data, fundamental_data):\n",
    "    \"\"\"\n",
    "    Calculate weights for the strategy based on a simple revenue growth check.\n",
    "\n",
    "    If the total revenue for a given time period is greater than 65 days ago, assign a weight of 1 (buy), otherwise 0.\n",
    "\n",
    "    \"\"\"\n",
    "    total_revenue = fundamental_data.sel(field=\"total_revenue\")\n",
    "    total_revenue_days_ago = total_revenue.shift(time=65)\n",
    "\n",
    "    buy = 1\n",
    "    is_up = xr.where(total_revenue > total_revenue_days_ago, buy, 0)\n",
    "\n",
    "    return is_up * data.sel(field='is_liquid')\n",
    "\n",
    "\n",
    "def add_buy_and_hold_enough_bid_for(data, weights_):\n",
    "    \"\"\"Add buy and hold condition based on the liquidity of the assets.\"\"\"\n",
    "    time_traded = weights_.time[abs(weights_).fillna(0).sum('asset') > 0]\n",
    "    is_strategy_traded = len(time_traded)\n",
    "    if is_strategy_traded:\n",
    "        return xr.where(weights_.time < time_traded.min(), data.sel(field=\"is_liquid\"), weights_)\n",
    "    return weights_\n",
    "\n",
    "\n",
    "weights = calculate_weights(market_data, indicators_data)\n",
    "weights = add_buy_and_hold_enough_bid_for(market_data, weights)\n",
    "weights = qnout.clean(weights, market_data, \"stocks_nasdaq100\")"
   ]
  },
  {
   "cell_type": "markdown",
   "metadata": {},
   "source": [
    "## 4. Performance estimation\n",
    "\n",
    "Once we have our trading algorithm, we can assess its performance by calculating various statistics."
   ]
  },
  {
   "cell_type": "code",
   "execution_count": null,
   "metadata": {
    "collapsed": false,
    "jupyter": {
     "outputs_hidden": false
    }
   },
   "outputs": [],
   "source": [
    "stats = qnstats.calc_stat(market_data, weights.sel(time=slice(\"2006-01-01\", None)))\n",
    "display(stats.to_pandas().tail())"
   ]
  },
  {
   "cell_type": "markdown",
   "metadata": {},
   "source": [
    "These stats show how well the algorithm is doing if you started with 1M USD. They include:\n",
    "\n",
    "* **equity**: the cumulative value of profits and losses since inception (1M USD);\n",
    "* **relative_return**: the relative daily variation of **equity**;\n",
    "* **volatility**: the volatility of the investment since inception (i.e. the annualized standard deviation of the daily returns);\n",
    "* **underwater**: the time evolution of drawdowns;\n",
    "* **max_drawdown**: the absolute minimum of the underwater chart;\n",
    "* **sharpe_ratio**: the annualized Sharpe ratio since inception; the value must be larger than 1 for taking part to contests;\n",
    "* **mean_return**: the annualized mean return of the investment since inception;\n",
    "* **bias**: the daily asymmetry between long and short exposure: 1 for a long-only system, -1 for a short-only one;\n",
    "* **instruments**: the number of instruments which get allocations on a given day;\n",
    "* **avg_turnover**: the average turnover;\n",
    "* **avg_holding_time**: the average holding time in days.\n",
    "\n",
    "We can also plot a chart to show how profits and losses have accumulated over time."
   ]
  },
  {
   "cell_type": "code",
   "execution_count": null,
   "metadata": {
    "collapsed": false,
    "jupyter": {
     "outputs_hidden": false
    }
   },
   "outputs": [],
   "source": [
    "performance = stats.to_pandas()[\"equity\"]\n",
    "qngraph.make_plot_filled(performance.index, performance, name=\"PnL (Equity)\", type=\"log\")"
   ]
  },
  {
   "cell_type": "markdown",
   "metadata": {},
   "source": [
    "# 4) Submit Your strategy to the competition\n",
    "\n",
    "> To send the strategy, use the **Submit** button."
   ]
  },
  {
   "cell_type": "code",
   "execution_count": null,
   "metadata": {
    "collapsed": false,
    "jupyter": {
     "outputs_hidden": false
    }
   },
   "outputs": [],
   "source": [
    "weights = weights.sel(time=slice(\"2006-01-01\", None))\n",
    "qnout.check(weights, market_data, \"stocks_nasdaq100\")\n",
    "qnout.write(weights)  # to participate in the competition"
   ]
  },
  {
   "cell_type": "markdown",
   "metadata": {},
   "source": [
    "## Strategy Guidelines\n",
    "\n",
    "* Your trading algorithm can open both short and long positions.\n",
    "\n",
    "* At any given time, your algorithm can trade all or a subset of stocks that are or were part of the NASDAQ-100 stock index. Keep in mind that this index's composition changes over time. Quantiacs provides a suitable filter function for selecting these stocks.\n",
    "\n",
    "* The Sharpe ratio of your system since January 1, 2006, must be greater than 1.\n",
    "\n",
    "* Your system must not replicate the current examples. We use a correlation filter to identify and remove duplicates in the submissions.\n",
    "\n",
    "For more detailed rules, please visit our [competition rules page](https://quantiacs.com/contest)."
   ]
  },
  {
   "cell_type": "markdown",
   "metadata": {},
   "source": [
    "# Working with Data\n",
    "\n",
    "Quantiacs offers historical data for major financial markets, including **stocks**, **futures** (like Bitcoin futures),\n",
    "and **cryptocurrencies**. This section provides an overview of the data:\n",
    "\n",
    "- [Stocks](https://quantiacs.com/documentation/en/data/stocks.html): Market data for NASDAQ-listed companies, past and\n",
    "  present.\n",
    "- [Futures](https://quantiacs.com/documentation/en/data/futures.html): Market data for liquid global futures contracts\n",
    "  with various underlying assets.\n",
    "- [Cryptocurrencies](https://quantiacs.com/documentation/en/data/crypto.html): Market data for top cryptocurrencies by\n",
    "  market capitalization.\n",
    "\n",
    "Additional Datasets:\n",
    "\n",
    "- [Indexes](https://quantiacs.com/documentation/en/data/indexes.html): Daily data for various stock market indices.\n",
    "- [U.S. Bureau of Labor Statistics (BLS Data)](https://quantiacs.com/documentation/en/data/bls.html): Offers\n",
    "  macroeconomic data on prices, employment, unemployment, compensation, and working conditions.\n",
    "- [International Monetary Fund (IMF Data)](https://quantiacs.com/documentation/en/data/imf.html): Publishes time series data on IMF lending, exchange rates,\n",
    "  economic and financial indicators, and commodity data.\n",
    "- [Fundamental Data](https://quantiacs.com/documentation/en/data/fundamental.html): An experimental API for additional financial data."
   ]
  },
  {
   "cell_type": "markdown",
   "metadata": {},
   "source": [
    "## Potential Issues in Working with Fundamental Data:\n",
    "\n",
    "- **Inconsistency in fact publication among companies:**\n",
    "  - One company might not publish a specific fact but might provide other data from which this fact can be derived.\n",
    "  - Another company, on the contrary, might directly provide the fact, omitting intermediary data.\n",
    "\n",
    "- **Lack of standardized formulas for indicators:**\n",
    "  - Not all indicators have standard calculation formulas.\n",
    "  - For some of them, each company decides on its own which fundamental facts should be used to form the indicator.\n",
    "  - This can lead to the same company using different data at different times for one indicator.\n",
    "  - It's not accurate to compare companies based on such indicators.\n",
    "\n",
    "- **Changing the strategy of indicator construction:**\n",
    "  - When updating financial statements, a company may change the methodology or calculation formulas for indicators, introducing an element of uncertainty.\n",
    "\n",
    "- **Errors and corrections in reports:**\n",
    "  - Reports can contain errors, which are corrected later, but the initial data can distort the analysis.\n",
    "\n",
    "- **Data omissions:**\n",
    "  - Some facts might be missing in the reports.\n",
    "  - Companies might release their reports on different dates.\n",
    "\n",
    "- **Issues with indicators based on stock prices:**\n",
    "  - If a company conducts a stock split before publishing a report, indicators can show unexpected changes, distorting the analysis.\n",
    "\n",
    "> The current implementation of Quantiacs partially resolve these issues:\n",
    "\n",
    "- When constructing an indicator, one formula is used for all companies, allowing them to be compared under \"similar\" conditions.\n",
    "- If key data for calculation is missing, the algorithm tries to restore it using other facts or indicators.\n",
    "- If data from the SEC gov report is missing, the algorithm tries to restore the missing information based on annual and quarterly reports, or if absent, uses average values.\n",
    "- By default, the strategy for constructing indicators is over 12 months (LTM). Users can build indicators for the quarter (QF) or use annual values (AF).\n",
    "\n",
    "You can discover the available attributes in the us-gaap taxonomy [here](http://xbrlview.fasb.org/yeti/resources/yeti-gwt/Yeti.jsp).\n",
    "Introduction to Financial Statements [here](https://www.sec.gov/oiea/reportspubs/investor-publications/beginners-guide-to-financial-statements.html)\n"
   ]
  }
 ],
 "metadata": {
  "kernelspec": {
   "display_name": "Python 3",
   "language": "python",
   "name": "python3"
  },
  "language_info": {
   "codemirror_mode": {
    "name": "ipython",
    "version": 3
   },
   "file_extension": ".py",
   "mimetype": "text/x-python",
   "name": "python",
   "nbconvert_exporter": "python",
   "pygments_lexer": "ipython3",
   "version": "3.7.6"
  }
 },
 "nbformat": 4,
 "nbformat_minor": 4
}
